{
 "cells": [
  {
   "cell_type": "code",
   "execution_count": 1,
   "metadata": {},
   "outputs": [
    {
     "name": "stderr",
     "output_type": "stream",
     "text": [
      "2025/06/18 14:45:03 WARNING mlflow.utils.autologging_utils: Encountered unexpected error during sklearn autologging: Session.create_client() got an unexpected keyword argument 'aws_account_id'\n"
     ]
    },
    {
     "name": "stdout",
     "output_type": "stream",
     "text": [
      "Score: 0.9226671922324763\n",
      "🏃 View run  at: http://127.0.0.1:55610/#/experiments/1/runs/5d3cca85f800460da25699b9e2cd348a\n",
      "🧪 View experiment at: http://127.0.0.1:55610/#/experiments/1\n"
     ]
    }
   ],
   "source": [
    "import pandas as pd\n",
    "import os\n",
    "import mlflow\n",
    "from sklearn.model_selection import train_test_split \n",
    "from sklearn.linear_model import LinearRegression\n",
    "\n",
    "data_path = os.getcwd() + \"/data/\"\n",
    "\n",
    "EXPERIMENT_NAME=\"mlflow-kubernetes-deploy\"\n",
    "\n",
    "mlflow.set_tracking_uri(\"http://127.0.0.1:55610\")\n",
    "\n",
    "mlflow.set_experiment(EXPERIMENT_NAME)\n",
    "\n",
    "experiment = mlflow.get_experiment_by_name(EXPERIMENT_NAME)\n",
    "\n",
    "mlflow.sklearn.autolog()\n",
    "\n",
    "df = pd.read_csv(data_path + \"Salary_Data.csv\")\n",
    "\n",
    "X = df.loc[:, [\"YearsExperience\"]]\n",
    "y = df.loc[:, [\"Salary\"]]\n",
    "\n",
    "X_train, X_test, y_train, y_test = train_test_split(X, y, test_size = 0.3)\n",
    "\n",
    "with mlflow.start_run(experiment_id = experiment.experiment_id):\n",
    "    model = LinearRegression()\n",
    "    model.fit(X_train, y_train)\n",
    "    predictions = model.predict(X_test)\n",
    "    score = model.score(X_test, y_test)\n",
    "\n",
    "    print(\"Score: {}\".format(score))"
   ]
  }
 ],
 "metadata": {
  "kernelspec": {
   "display_name": "base",
   "language": "python",
   "name": "python3"
  },
  "language_info": {
   "codemirror_mode": {
    "name": "ipython",
    "version": 3
   },
   "file_extension": ".py",
   "mimetype": "text/x-python",
   "name": "python",
   "nbconvert_exporter": "python",
   "pygments_lexer": "ipython3",
   "version": "3.12.7"
  }
 },
 "nbformat": 4,
 "nbformat_minor": 2
}
