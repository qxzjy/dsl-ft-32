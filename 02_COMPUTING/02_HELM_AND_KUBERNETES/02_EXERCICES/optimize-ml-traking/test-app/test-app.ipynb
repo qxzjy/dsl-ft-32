{
 "cells": [
  {
   "cell_type": "code",
   "execution_count": 1,
   "metadata": {},
   "outputs": [
    {
     "name": "stderr",
     "output_type": "stream",
     "text": [
      "2025/06/19 14:16:55 INFO mlflow.tracking.fluent: Experiment with name 'mlflow-kubernetes-helm-deploy' does not exist. Creating a new experiment.\n",
      "2025/06/19 14:16:57 WARNING mlflow.utils.autologging_utils: Encountered unexpected error during sklearn autologging: Session.create_client() got an unexpected keyword argument 'aws_account_id'\n"
     ]
    },
    {
     "name": "stdout",
     "output_type": "stream",
     "text": [
      "Score: 0.9192074290138735\n",
      "🏃 View run  at: http://127.0.0.1:51372/#/experiments/1/runs/06fc0a2eceda4c88a8f46506a3877ac4\n",
      "🧪 View experiment at: http://127.0.0.1:51372/#/experiments/1\n"
     ]
    }
   ],
   "source": [
    "import pandas as pd\n",
    "import os\n",
    "import mlflow\n",
    "from sklearn.model_selection import train_test_split \n",
    "from sklearn.linear_model import LinearRegression\n",
    "\n",
    "data_path = os.getcwd() + \"/data/\"\n",
    "\n",
    "EXPERIMENT_NAME=\"mlflow-kubernetes-helm-deploy\"\n",
    "\n",
    "mlflow.set_tracking_uri(\"http://127.0.0.1:51372\")\n",
    "\n",
    "mlflow.set_experiment(EXPERIMENT_NAME)\n",
    "\n",
    "experiment = mlflow.get_experiment_by_name(EXPERIMENT_NAME)\n",
    "\n",
    "mlflow.sklearn.autolog()\n",
    "\n",
    "df = pd.read_csv(data_path + \"Salary_Data.csv\")\n",
    "\n",
    "X = df.loc[:, [\"YearsExperience\"]]\n",
    "y = df.loc[:, [\"Salary\"]]\n",
    "\n",
    "X_train, X_test, y_train, y_test = train_test_split(X, y, test_size = 0.3)\n",
    "\n",
    "with mlflow.start_run(experiment_id = experiment.experiment_id):\n",
    "    model = LinearRegression()\n",
    "    model.fit(X_train, y_train)\n",
    "    predictions = model.predict(X_test)\n",
    "    score = model.score(X_test, y_test)\n",
    "\n",
    "    print(\"Score: {}\".format(score))"
   ]
  }
 ],
 "metadata": {
  "kernelspec": {
   "display_name": "base",
   "language": "python",
   "name": "python3"
  },
  "language_info": {
   "codemirror_mode": {
    "name": "ipython",
    "version": 3
   },
   "file_extension": ".py",
   "mimetype": "text/x-python",
   "name": "python",
   "nbconvert_exporter": "python",
   "pygments_lexer": "ipython3",
   "version": "3.12.7"
  }
 },
 "nbformat": 4,
 "nbformat_minor": 2
}
